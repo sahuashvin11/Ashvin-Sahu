{
 "cells": [
  {
   "cell_type": "markdown",
   "id": "14f5ebbd",
   "metadata": {},
   "source": [
    "1. Harvard Law School courses often have assigned seating to facilitate the “Socratic\n",
    "method.” Suppose that there are 100 first year Harvard Law students, and each takes two\n",
    "courses: Torts and Contracts. Both are held in the same lecture hall (which has 100 seats),\n",
    "and the seating is uniformly random and independent for the two courses ?\n",
    "\n",
    "(a). Find the probability that no one has the same seat for both courses (exactly; you should\n",
    "leave your answer as a sum)."
   ]
  },
  {
   "cell_type": "code",
   "execution_count": 1,
   "id": "00164ba3",
   "metadata": {
    "scrolled": true
   },
   "outputs": [
    {
     "name": "stdout",
     "output_type": "stream",
     "text": [
      "0.01\n"
     ]
    }
   ],
   "source": [
    "import math\n",
    "\n",
    "def probability_no_same_seat():\n",
    "    total_arrangements = math.factorial(100)\n",
    "    valid_arrangements = math.factorial(99)\n",
    "\n",
    "    probability = valid_arrangements / total_arrangements\n",
    "    return probability\n",
    "\n",
    "result = probability_no_same_seat()\n",
    "print(result)"
   ]
  },
  {
   "cell_type": "markdown",
   "id": "01e1221e",
   "metadata": {},
   "source": [
    "(b). Find a simple but accurate approximation to the probability that no one has the same\n",
    "seat for both courses."
   ]
  },
  {
   "cell_type": "code",
   "execution_count": 2,
   "id": "783ecb97",
   "metadata": {},
   "outputs": [
    {
     "name": "stdout",
     "output_type": "stream",
     "text": [
      "0.01990000000000003\n"
     ]
    }
   ],
   "source": [
    "def probability_approximation():\n",
    "    probability_same_seat_torts = 1 / 100\n",
    "    probability_same_seat_contracts = 1 / 100\n",
    "    probability_same_seat_both = (1 / 100) * (1 / 100)\n",
    "\n",
    "    probability_at_least_one = 1 - (probability_same_seat_torts + probability_same_seat_contracts - probability_same_seat_both)\n",
    "    probability_no_same_seat = 1 - probability_at_least_one\n",
    "\n",
    "    return probability_no_same_seat\n",
    "\n",
    "result_approximation = probability_approximation()\n",
    "print(result_approximation)\n"
   ]
  },
  {
   "cell_type": "markdown",
   "id": "f5dfa9d6",
   "metadata": {},
   "source": [
    "(c). Find a simple but accurate approximation to the probability that at least two students\n",
    "have the same seat for both courses"
   ]
  },
  {
   "cell_type": "code",
   "execution_count": 3,
   "id": "972ef40c",
   "metadata": {},
   "outputs": [
    {
     "name": "stdout",
     "output_type": "stream",
     "text": [
      "0.0199\n"
     ]
    }
   ],
   "source": [
    "def probability_at_least_two_same_seat():\n",
    "    probability_same_seat_torts = 1 / 100\n",
    "    probability_same_seat_contracts = 1 / 100\n",
    "    probability_same_seat_both = (1 / 100) * (1 / 100)\n",
    "\n",
    "    probability_at_least_two = probability_same_seat_torts + probability_same_seat_contracts - probability_same_seat_both\n",
    "    return probability_at_least_two\n",
    "\n",
    "result_approximation_at_least_two = probability_at_least_two_same_seat()\n",
    "print(result_approximation_at_least_two)\n"
   ]
  },
  {
   "cell_type": "markdown",
   "id": "3f7fc0da",
   "metadata": {},
   "source": [
    "2. There are 100 passengers lined up to board an airplane with 100 seats (with each seat\n",
    "assigned to one of the passengers). The first passenger in line crazily decides to sit in a\n",
    "randomly chosen seat (with all seats equally likely). Each subsequent passenger takes his or\n",
    "her assigned seat if available, and otherwise sits in a random available seat. What is the\n",
    "probability that the last passenger in line gets to sit in his or her assigned seat?"
   ]
  },
  {
   "cell_type": "code",
   "execution_count": null,
   "id": "865d1216",
   "metadata": {},
   "outputs": [],
   "source": [
    "def probability_last_passenger_assigned_seat(n):\n",
    "    if n == 1:\n",
    "        return 1.0\n",
    "    elif n == 2:\n",
    "        return 0.5\n",
    "\n",
    "    prob_first_sits_in_seat1 = 1.0\n",
    "    prob_first_sits_in_seat100 = 1.0 / n\n",
    "    prob_other_cases = 0.0\n",
    "\n",
    "    for i in range(2, n):\n",
    "        prob_other_cases += (1.0 / n) * probability_last_passenger_assigned_seat(n - 1)\n",
    "\n",
    "    total_probability = prob_first_sits_in_seat1 + prob_first_sits_in_seat100 + prob_other_cases\n",
    "\n",
    "    return total_probability\n",
    "\n",
    "probability_100_passengers = probability_last_passenger_assigned_seat(100)\n",
    "print(probability_100_passengers)"
   ]
  },
  {
   "cell_type": "markdown",
   "id": "7598260b",
   "metadata": {},
   "source": [
    "3. Raindrops are falling at an average rate of 20 drops per square inch per minute. What\n",
    "would be a reasonable distribution to use for the number of raindrops hitting a particular\n",
    "region measuring 5 inches2 in t minutes? Why? Using your chosen distribution, compute the\n",
    "probability that the region has no rain drops in a given 3 second time interval. A reasonable\n",
    "choice of distribution is P ?"
   ]
  },
  {
   "cell_type": "code",
   "execution_count": 4,
   "id": "8b67e59e",
   "metadata": {},
   "outputs": [
    {
     "name": "stdout",
     "output_type": "stream",
     "text": [
      "0.006737946999085467\n"
     ]
    }
   ],
   "source": [
    "import math\n",
    "\n",
    "t = 3 / 60 \n",
    "lambda_val = 100 * t\n",
    "\n",
    "probability_no_raindrops = math.exp(-lambda_val)\n",
    "print(probability_no_raindrops)\n"
   ]
  },
  {
   "cell_type": "markdown",
   "id": "14957b73",
   "metadata": {},
   "source": [
    "4. Let X be a random day of the week, coded so that Monday is 1, Tuesday is 2, etc. (so X\n",
    "takes values 1, 2,..., 7, with equal probabilities). Let Y be the next day after X (again\n",
    "represented as an integer between 1 and 7). Do X and Y have the same distribution? What is\n",
    "P(X) ?"
   ]
  },
  {
   "cell_type": "code",
   "execution_count": 5,
   "id": "a379ed0a",
   "metadata": {},
   "outputs": [
    {
     "name": "stdout",
     "output_type": "stream",
     "text": [
      "0.14285714285714285\n"
     ]
    }
   ],
   "source": [
    "def probability_X(day):\n",
    "    if 1 <= day <= 7:\n",
    "        return 1 / 7\n",
    "    else:\n",
    "        return 0\n",
    "\n",
    "day = 1\n",
    "probability_x = probability_X(day)\n",
    "print(probability_x)\n"
   ]
  },
  {
   "cell_type": "markdown",
   "id": "be4a27f2",
   "metadata": {},
   "source": [
    "5. For a group of 7 people, find the probability that all 4 seasons (winter, spring, summer,\n",
    "fall) occur at least once each among their birthdays, assuming that all seasons are equally\n",
    "likely ?"
   ]
  },
  {
   "cell_type": "code",
   "execution_count": 6,
   "id": "51d037d6",
   "metadata": {},
   "outputs": [
    {
     "name": "stdout",
     "output_type": "stream",
     "text": [
      "0.5126953125\n"
     ]
    }
   ],
   "source": [
    "def derangement(n):\n",
    "    if n == 0:\n",
    "        return 1\n",
    "    if n == 1:\n",
    "        return 0\n",
    "    return (n - 1) * (derangement(n - 1) + derangement(n - 2))\n",
    "\n",
    "def probability_all_seasons_occur():\n",
    "    total_ways = 4 ** 7\n",
    "    one_season_missing = 4 * (3 ** 7)\n",
    "    two_seasons_missing = math.comb(4, 2) * (2 ** 7)\n",
    "    three_seasons_missing = math.comb(4, 3) * (1 ** 7)\n",
    "\n",
    "    probability = 1 - (one_season_missing - two_seasons_missing + three_seasons_missing) / total_ways\n",
    "    return probability\n",
    "\n",
    "result = probability_all_seasons_occur()\n",
    "print(result)\n"
   ]
  },
  {
   "cell_type": "markdown",
   "id": "808929d2",
   "metadata": {},
   "source": [
    "6. Alice attends a small college in which each class meets only once a week. She is deciding\n",
    "between 30 non-overlapping classes. There are 6 classes to choose from for each day of the\n",
    "week, Monday through Friday. Trusting in the benevolence of randomness, Alice decides to register for 7 randomly selected classes out of the 30, with all choices equally likely. What is\n",
    "the probability that she will have classes every day, Monday through Friday?"
   ]
  },
  {
   "cell_type": "code",
   "execution_count": 7,
   "id": "12f69915",
   "metadata": {},
   "outputs": [
    {
     "name": "stdout",
     "output_type": "stream",
     "text": [
      "1.1458885941644563\n"
     ]
    }
   ],
   "source": [
    "def probability_classes_every_day():\n",
    "    total_possible_ways = math.comb(30, 7)\n",
    "    favorable_ways = (6 ** 5) * math.comb(25, 2)\n",
    "\n",
    "    probability = favorable_ways / total_possible_ways\n",
    "    return probability\n",
    "\n",
    "result = probability_classes_every_day()\n",
    "print(result)\n"
   ]
  },
  {
   "cell_type": "markdown",
   "id": "b01bbe9c",
   "metadata": {},
   "source": [
    "7. Is it possible that an event is independent of itself? If so, when?"
   ]
  },
  {
   "cell_type": "markdown",
   "id": "8efee890",
   "metadata": {},
   "source": [
    "8. Is it always true that if A and B are independent events, then Ac and Bc are independent events? Show that it is, or give a counterexample ?"
   ]
  },
  {
   "cell_type": "code",
   "execution_count": 9,
   "id": "108fca3a",
   "metadata": {},
   "outputs": [
    {
     "name": "stdout",
     "output_type": "stream",
     "text": [
      "P(Ac and Bc): 0\n",
      "P(Ac) * P(Bc): 0.25\n"
     ]
    }
   ],
   "source": [
    "def calculate_probabilities():\n",
    "    p_A = 0.5\n",
    "    p_B = 0.5\n",
    "    p_Ac = 0.5\n",
    "    p_Bc = 0.5\n",
    "\n",
    "    p_Ac_and_Bc = 0  \n",
    "    \n",
    "    p_Ac_Bc_independent = p_Ac * p_Bc\n",
    "\n",
    "    print(\"P(Ac and Bc):\", p_Ac_and_Bc)\n",
    "    print(\"P(Ac) * P(Bc):\", p_Ac_Bc_independent)\n",
    "\n",
    "calculate_probabilities()\n"
   ]
  },
  {
   "cell_type": "markdown",
   "id": "1803e735",
   "metadata": {},
   "source": [
    "9. Give an example of 3 events A, B, C which are pairwise independent but not independent.\n",
    "Hint: find an example where whether C occurs is completely determined if we know\n",
    "whether A occurred and whether B occurred, but completely undetermined if we know only\n",
    "one of these things ?"
   ]
  },
  {
   "cell_type": "code",
   "execution_count": 19,
   "id": "9721c934",
   "metadata": {},
   "outputs": [
    {
     "name": "stdout",
     "output_type": "stream",
     "text": [
      "P(A and B): 0.25\n",
      "P(A and C): 0.16666666666666666\n",
      "P(B and C): 0.16666666666666666\n"
     ]
    }
   ],
   "source": [
    "def calculate_probabilities():\n",
    "    p_A = 3 / 6  # 3 even numbers out of 6 possible outcomes\n",
    "    p_B = 3 / 6  # 3 prime numbers out of 6 possible outcomes\n",
    "    p_C = 2 / 6  # 2 outcomes (2 and 4) out of 6 possible outcomes\n",
    "\n",
    "    p_A_and_B = p_A * p_B  # Probability of A and B\n",
    "    p_A_and_C = p_A * p_C  # Probability of A and C\n",
    "    p_B_and_C = p_B * p_C  # Probability of B and C\n",
    "\n",
    "    print(\"P(A and B):\", p_A_and_B)\n",
    "    print(\"P(A and C):\", p_A_and_C)\n",
    "    print(\"P(B and C):\", p_B_and_C)\n",
    "\n",
    "calculate_probabilities()\n"
   ]
  },
  {
   "cell_type": "markdown",
   "id": "86bbf56a",
   "metadata": {},
   "source": [
    "10. A bag contains one marble which is either green or blue, with equal probabilities. A\n",
    "green marble is put in the bag (so there are 2 marbles now), and then a random marble is\n",
    "taken out. The marble taken out is green. What is the probability that the remaining marble\n",
    "is also green?"
   ]
  },
  {
   "cell_type": "code",
   "execution_count": 20,
   "id": "a97b12be",
   "metadata": {},
   "outputs": [
    {
     "name": "stdout",
     "output_type": "stream",
     "text": [
      "1.0\n"
     ]
    }
   ],
   "source": [
    "def calculate_probability():\n",
    "    p_A_and_B = (1/2) * 1\n",
    "    p_A = 1/2\n",
    "    p_B_given_A = p_A_and_B / p_A\n",
    "    return p_B_given_A\n",
    "\n",
    "result = calculate_probability()\n",
    "print(result)"
   ]
  },
  {
   "cell_type": "markdown",
   "id": "4d9a6951",
   "metadata": {},
   "source": [
    "11. A group of n 2 people decide to play an exciting game of Rock-Paper Scissors. As you\n",
    "may recall, Rock smashes Scissors, Scissors cuts Paper, and Paper covers Rock (despite Bart\n",
    "Simpson saying “Good old rock, nothing beats that!”). Usually, this game is played with 2\n",
    "players, but it can be extended to more players as follows. If exactly 2 of the 3 choices\n",
    "appear when everyone reveals their choice, say a, b 2 {Rock, Paper, Scissors} where a beats\n",
    "b, the game is decisive: the players who chose a win, and the players who chose b lose.\n",
    "Otherwise, the game is indecisive and the players play again. For example, with 5 players, if\n",
    "one player picks Rock, two pick Scissors, and two pick Paper, the round is indecisive and\n",
    "they play again. But if 3 pick Rock and 2 pick Scissors, then the Rock players win and the\n",
    "Scissors players lose the game. 1 Assume that the n players independently and randomly\n",
    "choose between Rock, Scissors, and Paper, with equal probabilities. Let X, Y, Z be the\n",
    "number of players who pick Rock, Scissors, Paper, respectively in one game.\n",
    "\n",
    "(a).Find the joint PMF of X, Y, Z.\n"
   ]
  },
  {
   "cell_type": "code",
   "execution_count": 21,
   "id": "36d40c79",
   "metadata": {},
   "outputs": [
    {
     "name": "stdout",
     "output_type": "stream",
     "text": [
      "0.04115226337448558\n"
     ]
    }
   ],
   "source": [
    "def joint_pmf(n, x, y, z):\n",
    "    p = 1/3\n",
    "    q = 1/3\n",
    "    r = 1/3\n",
    "\n",
    "    pmf = (math.factorial(n) / (math.factorial(x) * math.factorial(y) * math.factorial(z))) \\\n",
    "          * (p ** x) * (q ** y) * (r ** z)\n",
    "\n",
    "    return pmf\n",
    "\n",
    "n = 5  \n",
    "x = 3  \n",
    "y = 0\n",
    "z = 2\n",
    "\n",
    "result = joint_pmf(n, x, y, z)\n",
    "print(result)\n"
   ]
  },
  {
   "cell_type": "markdown",
   "id": "29079b7a",
   "metadata": {},
   "source": [
    "(b). Find the probability that the game is decisive. Simplify your answer (it should not involve\n",
    "a sum of many terms)."
   ]
  },
  {
   "cell_type": "code",
   "execution_count": 22,
   "id": "ade16973",
   "metadata": {},
   "outputs": [
    {
     "name": "stdout",
     "output_type": "stream",
     "text": [
      "0.7407407407407407\n"
     ]
    }
   ],
   "source": [
    "def decisive_probability(n):\n",
    "    p = 1/3\n",
    "    q = 1/3\n",
    "    r = 1/3\n",
    "\n",
    "    decisive_prob = (\n",
    "        (math.comb(n, 2) * p**2 * q * (p + q)) +  # X = Y ≠ Z\n",
    "        (math.comb(n, 2) * q**2 * r * (q + r)) +  # Y = Z ≠ X\n",
    "        (math.comb(n, 2) * r**2 * p * (r + p))    # Z = X ≠ Y\n",
    "    )\n",
    "\n",
    "    return decisive_prob\n",
    "\n",
    "n = 5 \n",
    "result = decisive_probability(n)\n",
    "print(result)\n"
   ]
  },
  {
   "cell_type": "markdown",
   "id": "6f772686",
   "metadata": {},
   "source": [
    "(c). What is the probability that the game is decisive for n = 5? What is the limiting\n",
    "probability that a game is decisive as n ! 1? Explain briefly why your answer makes sense."
   ]
  },
  {
   "cell_type": "code",
   "execution_count": 28,
   "id": "688764e9",
   "metadata": {},
   "outputs": [
    {
     "name": "stdout",
     "output_type": "stream",
     "text": [
      "0.7407407407407407\n"
     ]
    }
   ],
   "source": [
    "n = 5 \n",
    "result_n_5 = decisive_probability(n)\n",
    "print(result_n_5)\n",
    "\n",
    "decisive_prob = (\n",
    "    (math.comb(n, 2) * p**2 * q * (p + q)) +  # X = Y ≠ Z\n",
    "    (math.comb(n, 2) * q**2 * r * (q + r)) +  # Y = Z ≠ X\n",
    "    (math.comb(n, 2) * r**2 * p * (r + p))    # Z = X ≠ Y\n",
    ")\n",
    "\n",
    "limiting_decisive_prob = (n**2 / 2) * (p**2 * q * (p + q) + q**2 * r * (q + r) + r**2 * p * (r + p))\n",
    "\n",
    "limiting_n_infinity = limiting_decisive_prob.subs({p: 1/3, q: 1/3, r: 1/3})\n",
    "print(limiting_n_infinity)"
   ]
  },
  {
   "cell_type": "markdown",
   "id": "0656c6e7",
   "metadata": {},
   "source": [
    "12. A spam filter is designed by looking at commonly occurring phrases in spam. Suppose\n",
    "that 80% of email is spam. In 10% of the spam emails, the phrase “free money” is used, whereas this phrase is only used in 1% of non-spam emails. A new email has just arrived, \n",
    "which does mention “free money”. What is the probability that it is spam?"
   ]
  },
  {
   "cell_type": "code",
   "execution_count": 29,
   "id": "b51bf877",
   "metadata": {},
   "outputs": [
    {
     "name": "stdout",
     "output_type": "stream",
     "text": [
      "0.975609756097561\n"
     ]
    }
   ],
   "source": [
    "def calculate_probability():\n",
    "    p_F_given_S = 0.10\n",
    "    p_S = 0.80\n",
    "    p_F_and_S = p_F_given_S * p_S\n",
    "    \n",
    "    p_F_given_N = 0.01\n",
    "    p_N = 0.20\n",
    "    p_F_and_N = p_F_given_N * p_N\n",
    "    \n",
    "    p_F = p_F_and_S + p_F_and_N\n",
    "    \n",
    "    p_S_given_F = (p_F_given_S * p_S) / p_F\n",
    "    return p_S_given_F\n",
    "\n",
    "result = calculate_probability()\n",
    "print(result)"
   ]
  },
  {
   "cell_type": "markdown",
   "id": "7c99c5b9",
   "metadata": {},
   "source": [
    "13. A crime is committed by one of two suspects, A and B. Initially, there is equal evidence\n",
    "against both of them. In further investigation at the crime scene, it is found that the guilty\n",
    "party had a blood type found in 10% of the population. Suspect A does match this blood\n",
    "type, whereas the blood type of Suspect B is unknown. \n",
    "\n",
    "(a). Given this new information, what is the probability that A is the guilty party?"
   ]
  },
  {
   "cell_type": "code",
   "execution_count": 30,
   "id": "379c1e86",
   "metadata": {},
   "outputs": [
    {
     "name": "stdout",
     "output_type": "stream",
     "text": [
      "0.9090909090909091\n"
     ]
    }
   ],
   "source": [
    "def calculate_probability():\n",
    "    p_E_given_A = 1.0\n",
    "    p_A = 0.5\n",
    "    p_E_and_A = p_E_given_A * p_A\n",
    "    \n",
    "    p_E_given_B = 0.10\n",
    "    p_B = 0.5\n",
    "    p_E_and_B = p_E_given_B * p_B\n",
    "    \n",
    "    p_E = p_E_and_A + p_E_and_B\n",
    "    \n",
    "    p_A_given_E = (p_E_given_A * p_A) / p_E\n",
    "    return p_A_given_E\n",
    "\n",
    "result = calculate_probability()\n",
    "print(result)\n"
   ]
  },
  {
   "cell_type": "markdown",
   "id": "76c816a9",
   "metadata": {},
   "source": [
    "(b). Given this new information, what is the probability that B’s blood type matches that found at the crime scene?"
   ]
  },
  {
   "cell_type": "code",
   "execution_count": 31,
   "id": "f44943ad",
   "metadata": {},
   "outputs": [
    {
     "name": "stdout",
     "output_type": "stream",
     "text": [
      "0.09090909090909094\n"
     ]
    }
   ],
   "source": [
    "def calculate_probability():\n",
    "    p_E_given_A = 1.0\n",
    "    p_A = 0.5\n",
    "    \n",
    "    p_E_given_B = 0.10\n",
    "    p_B = 0.5\n",
    "    p_E_and_B = p_E_given_B * p_B\n",
    "    \n",
    "    p_E = p_E_given_A * p_A + p_E_and_B\n",
    "    \n",
    "    p_B_given_E = 1 - (p_E_given_A * p_A) / p_E\n",
    "    return p_B_given_E\n",
    "\n",
    "result = calculate_probability()\n",
    "print(result)\n"
   ]
  },
  {
   "cell_type": "markdown",
   "id": "1b2298d5",
   "metadata": {},
   "source": [
    " 14. You are going to play 2 games of chess with an opponent whom you have never played\n",
    "against before (for the sake of this problem). Your opponent is equally likely to be a\n",
    "beginner, intermediate, or a master. Depending on\n",
    "\n",
    "(a). What is your probability of winning the first game?"
   ]
  },
  {
   "cell_type": "code",
   "execution_count": 32,
   "id": "5dc7c79c",
   "metadata": {},
   "outputs": [
    {
     "name": "stdout",
     "output_type": "stream",
     "text": [
      "0.3611111111111111\n"
     ]
    }
   ],
   "source": [
    "def calculate_probability():\n",
    "    p_B = p_I = p_M = 1/3\n",
    "    p_W_given_B = 1/2\n",
    "    p_W_given_I = 1/3\n",
    "    p_W_given_M = 1/4\n",
    "\n",
    "    p_W = p_W_given_B * p_B + p_W_given_I * p_I + p_W_given_M * p_M\n",
    "    return p_W\n",
    "\n",
    "result = calculate_probability()\n",
    "print(result)\n"
   ]
  },
  {
   "cell_type": "markdown",
   "id": "a146ada1",
   "metadata": {},
   "source": [
    "(b). Congratulations: you won the first game! Given this information, what is the probability\n",
    "that you will also win the second game"
   ]
  },
  {
   "cell_type": "markdown",
   "id": "bf100887",
   "metadata": {},
   "source": [
    "def calculate_probability():\n",
    "    p_W1_given_B = 0.6\n",
    "    p_W1_given_I = 0.5\n",
    "    p_W1_given_M = 0.4\n",
    "    \n",
    "    p_B = 1/3\n",
    "    p_I = 1/3\n",
    "    p_M = 1/3\n",
    "    \n",
    "    p_W2_given_W1_B = p_W1_given_B\n",
    "    p_W2_given_W1_I = p_W1_given_I\n",
    "    p_W2_given_W1_M = p_W1_given_M\n",
    "    \n",
    "    p_W2_given_W1 = (p_W2_given_W1_B * p_B) + (p_W2_given_W1_I * p_I) + (p_W2_given_W1_M * p_M)\n",
    "    return p_W2_given_W1\n",
    "\n",
    "result = calculate_probability()\n",
    "print(result)\n"
   ]
  },
  {
   "cell_type": "markdown",
   "id": "2640c282",
   "metadata": {},
   "source": [
    "15. A chicken lays n eggs. Each egg independently does or doesn’t hatch, with probability p\n",
    "of hatching. For each egg that hatches, the chick does or doesn’t survive (independently of\n",
    "the other eggs), with probability s of survival. Let N ⇠ Bin(n, p) be the number of eggs which\n",
    "hatch, X be the number of chicks which survive, and Y be the number of chicks which hatch\n",
    "but don’t survive (so X + Y = N). Find the marginal PMF of X, and the joint PMF of X and Y .\n",
    "Are they independent ?"
   ]
  },
  {
   "cell_type": "code",
   "execution_count": 37,
   "id": "5dc3863e",
   "metadata": {},
   "outputs": [
    {
     "name": "stdout",
     "output_type": "stream",
     "text": [
      "Marginal PMF of X: [0.0017210367999999983, 0.022127615999999985, 0.11379916799999995, 0.29262643199999994, 0.376233984, 0.19349176320000008]\n",
      "Joint PMF of X and Y:\n",
      "[0.00031999999999999965, 0.0006399999999999993, 0.0005119999999999995, 0.0002047999999999998, 4.095999999999997e-05, 3.276799999999997e-06]\n",
      "[0.005759999999999995, 0.009215999999999993, 0.005529599999999996, 0.0014745599999999991, 0.0001474559999999999, 0]\n",
      "[0.04147199999999998, 0.049766399999999975, 0.01990655999999999, 0.0026542079999999995, 0, 0]\n",
      "[0.14929919999999997, 0.11943936, 0.023887871999999997, 0, 0, 0]\n",
      "[0.26873856, 0.10749542399999999, 0, 0, 0, 0]\n",
      "[0.19349176320000008, 0, 0, 0, 0, 0]\n"
     ]
    }
   ],
   "source": [
    "import math\n",
    "\n",
    "def binomial_pmf(n, k, p):\n",
    "    return math.comb(n, k) * (p ** k) * ((1 - p) ** (n - k))\n",
    "\n",
    "def calculate_marginal_pmf_X(n, p, s):\n",
    "    marginal_pmf_X = [0] * (n + 1)\n",
    "\n",
    "    for n_hatched in range(n + 1):\n",
    "        for x_survive in range(n_hatched + 1):\n",
    "            p_N = binomial_pmf(n, n_hatched, p)\n",
    "            p_X_given_N = binomial_pmf(n_hatched, x_survive, s)\n",
    "            marginal_pmf_X[x_survive] += p_N * p_X_given_N\n",
    "\n",
    "    return marginal_pmf_X\n",
    "\n",
    "def calculate_joint_pmf_XY(n, p, s):\n",
    "    joint_pmf_XY = [[0] * (n + 1) for _ in range(n + 1)]\n",
    "\n",
    "    for n_hatched in range(n + 1):\n",
    "        for x_survive in range(n_hatched + 1):\n",
    "            y_hatch = n_hatched - x_survive\n",
    "            p_N = binomial_pmf(n, n_hatched, p)\n",
    "            p_X_given_N = binomial_pmf(n_hatched, x_survive, s)\n",
    "            joint_pmf_XY[x_survive][y_hatch] = p_N * p_X_given_N\n",
    "\n",
    "    return joint_pmf_XY\n",
    "\n",
    "n = 5  \n",
    "p = 0.8 \n",
    "s = 0.9\n",
    "\n",
    "marginal_pmf_X = calculate_marginal_pmf_X(n, p, s)\n",
    "joint_pmf_XY = calculate_joint_pmf_XY(n, p, s)\n",
    "\n",
    "print(\"Marginal PMF of X:\", marginal_pmf_X)\n",
    "print(\"Joint PMF of X and Y:\")\n",
    "for row in joint_pmf_XY:\n",
    "    print(row)\n"
   ]
  },
  {
   "cell_type": "code",
   "execution_count": null,
   "id": "d448af81",
   "metadata": {},
   "outputs": [],
   "source": []
  }
 ],
 "metadata": {
  "kernelspec": {
   "display_name": "Python 3 (ipykernel)",
   "language": "python",
   "name": "python3"
  },
  "language_info": {
   "codemirror_mode": {
    "name": "ipython",
    "version": 3
   },
   "file_extension": ".py",
   "mimetype": "text/x-python",
   "name": "python",
   "nbconvert_exporter": "python",
   "pygments_lexer": "ipython3",
   "version": "3.10.9"
  }
 },
 "nbformat": 4,
 "nbformat_minor": 5
}
